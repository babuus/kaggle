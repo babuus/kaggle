{
 "metadata": {
  "language_info": {
   "codemirror_mode": {
    "name": "ipython",
    "version": 3
   },
   "file_extension": ".py",
   "mimetype": "text/x-python",
   "name": "python",
   "nbconvert_exporter": "python",
   "pygments_lexer": "ipython3",
   "version": "3.8.5-final"
  },
  "orig_nbformat": 2,
  "kernelspec": {
   "name": "Python 3.8.5 64-bit",
   "display_name": "Python 3.8.5 64-bit",
   "metadata": {
    "interpreter": {
     "hash": "a90670a7cadc1348392440d289179783e92fd2a6853f2d8e5de6160f7cec1ba4"
    }
   }
  }
 },
 "nbformat": 4,
 "nbformat_minor": 2,
 "cells": [
  {
   "cell_type": "code",
   "execution_count": 10,
   "metadata": {},
   "outputs": [],
   "source": [
    "import pandas as pd\n",
    "from sklearn.tree import DecisionTreeRegressor\n",
    "from sklearn.metrics import mean_absolute_error\n",
    "from sklearn.model_selection import train_test_split"
   ]
  },
  {
   "cell_type": "code",
   "execution_count": 4,
   "metadata": {},
   "outputs": [],
   "source": [
    "path_train_data = \"./Dataset/train.csv\"\n",
    "train_data = pd.read_csv(path_train_data)"
   ]
  },
  {
   "cell_type": "code",
   "execution_count": 5,
   "metadata": {},
   "outputs": [
    {
     "output_type": "execute_result",
     "data": {
      "text/plain": [
       "   Id  MSSubClass MSZoning  LotFrontage  LotArea Street Alley LotShape  \\\n",
       "0   1          60       RL         65.0     8450   Pave   NaN      Reg   \n",
       "1   2          20       RL         80.0     9600   Pave   NaN      Reg   \n",
       "2   3          60       RL         68.0    11250   Pave   NaN      IR1   \n",
       "3   4          70       RL         60.0     9550   Pave   NaN      IR1   \n",
       "4   5          60       RL         84.0    14260   Pave   NaN      IR1   \n",
       "\n",
       "  LandContour Utilities  ... PoolArea PoolQC Fence MiscFeature MiscVal MoSold  \\\n",
       "0         Lvl    AllPub  ...        0    NaN   NaN         NaN       0      2   \n",
       "1         Lvl    AllPub  ...        0    NaN   NaN         NaN       0      5   \n",
       "2         Lvl    AllPub  ...        0    NaN   NaN         NaN       0      9   \n",
       "3         Lvl    AllPub  ...        0    NaN   NaN         NaN       0      2   \n",
       "4         Lvl    AllPub  ...        0    NaN   NaN         NaN       0     12   \n",
       "\n",
       "  YrSold  SaleType  SaleCondition  SalePrice  \n",
       "0   2008        WD         Normal     208500  \n",
       "1   2007        WD         Normal     181500  \n",
       "2   2008        WD         Normal     223500  \n",
       "3   2006        WD        Abnorml     140000  \n",
       "4   2008        WD         Normal     250000  \n",
       "\n",
       "[5 rows x 81 columns]"
      ],
      "text/html": "<div>\n<style scoped>\n    .dataframe tbody tr th:only-of-type {\n        vertical-align: middle;\n    }\n\n    .dataframe tbody tr th {\n        vertical-align: top;\n    }\n\n    .dataframe thead th {\n        text-align: right;\n    }\n</style>\n<table border=\"1\" class=\"dataframe\">\n  <thead>\n    <tr style=\"text-align: right;\">\n      <th></th>\n      <th>Id</th>\n      <th>MSSubClass</th>\n      <th>MSZoning</th>\n      <th>LotFrontage</th>\n      <th>LotArea</th>\n      <th>Street</th>\n      <th>Alley</th>\n      <th>LotShape</th>\n      <th>LandContour</th>\n      <th>Utilities</th>\n      <th>...</th>\n      <th>PoolArea</th>\n      <th>PoolQC</th>\n      <th>Fence</th>\n      <th>MiscFeature</th>\n      <th>MiscVal</th>\n      <th>MoSold</th>\n      <th>YrSold</th>\n      <th>SaleType</th>\n      <th>SaleCondition</th>\n      <th>SalePrice</th>\n    </tr>\n  </thead>\n  <tbody>\n    <tr>\n      <th>0</th>\n      <td>1</td>\n      <td>60</td>\n      <td>RL</td>\n      <td>65.0</td>\n      <td>8450</td>\n      <td>Pave</td>\n      <td>NaN</td>\n      <td>Reg</td>\n      <td>Lvl</td>\n      <td>AllPub</td>\n      <td>...</td>\n      <td>0</td>\n      <td>NaN</td>\n      <td>NaN</td>\n      <td>NaN</td>\n      <td>0</td>\n      <td>2</td>\n      <td>2008</td>\n      <td>WD</td>\n      <td>Normal</td>\n      <td>208500</td>\n    </tr>\n    <tr>\n      <th>1</th>\n      <td>2</td>\n      <td>20</td>\n      <td>RL</td>\n      <td>80.0</td>\n      <td>9600</td>\n      <td>Pave</td>\n      <td>NaN</td>\n      <td>Reg</td>\n      <td>Lvl</td>\n      <td>AllPub</td>\n      <td>...</td>\n      <td>0</td>\n      <td>NaN</td>\n      <td>NaN</td>\n      <td>NaN</td>\n      <td>0</td>\n      <td>5</td>\n      <td>2007</td>\n      <td>WD</td>\n      <td>Normal</td>\n      <td>181500</td>\n    </tr>\n    <tr>\n      <th>2</th>\n      <td>3</td>\n      <td>60</td>\n      <td>RL</td>\n      <td>68.0</td>\n      <td>11250</td>\n      <td>Pave</td>\n      <td>NaN</td>\n      <td>IR1</td>\n      <td>Lvl</td>\n      <td>AllPub</td>\n      <td>...</td>\n      <td>0</td>\n      <td>NaN</td>\n      <td>NaN</td>\n      <td>NaN</td>\n      <td>0</td>\n      <td>9</td>\n      <td>2008</td>\n      <td>WD</td>\n      <td>Normal</td>\n      <td>223500</td>\n    </tr>\n    <tr>\n      <th>3</th>\n      <td>4</td>\n      <td>70</td>\n      <td>RL</td>\n      <td>60.0</td>\n      <td>9550</td>\n      <td>Pave</td>\n      <td>NaN</td>\n      <td>IR1</td>\n      <td>Lvl</td>\n      <td>AllPub</td>\n      <td>...</td>\n      <td>0</td>\n      <td>NaN</td>\n      <td>NaN</td>\n      <td>NaN</td>\n      <td>0</td>\n      <td>2</td>\n      <td>2006</td>\n      <td>WD</td>\n      <td>Abnorml</td>\n      <td>140000</td>\n    </tr>\n    <tr>\n      <th>4</th>\n      <td>5</td>\n      <td>60</td>\n      <td>RL</td>\n      <td>84.0</td>\n      <td>14260</td>\n      <td>Pave</td>\n      <td>NaN</td>\n      <td>IR1</td>\n      <td>Lvl</td>\n      <td>AllPub</td>\n      <td>...</td>\n      <td>0</td>\n      <td>NaN</td>\n      <td>NaN</td>\n      <td>NaN</td>\n      <td>0</td>\n      <td>12</td>\n      <td>2008</td>\n      <td>WD</td>\n      <td>Normal</td>\n      <td>250000</td>\n    </tr>\n  </tbody>\n</table>\n<p>5 rows × 81 columns</p>\n</div>"
     },
     "metadata": {},
     "execution_count": 5
    }
   ],
   "source": [
    "train_data.head()"
   ]
  },
  {
   "cell_type": "code",
   "execution_count": 55,
   "metadata": {},
   "outputs": [
    {
     "output_type": "stream",
     "name": "stdout",
     "text": [
      "' 1460 1095 1095 365 365 ' are the length\n"
     ]
    },
    {
     "output_type": "execute_result",
     "data": {
      "text/plain": [
       "0    208500\n",
       "1    181500\n",
       "2    223500\n",
       "3    140000\n",
       "4    250000\n",
       "Name: SalePrice, dtype: int64"
      ]
     },
     "metadata": {},
     "execution_count": 55
    }
   ],
   "source": [
    "features = [\"LotArea\",\"YearBuilt\",\"1stFlrSF\",\"2ndFlrSF\",\"FullBath\",\"BedroomAbvGr\",\"TotRmsAbvGrd\"]\n",
    "X = train_data[features]\n",
    "Y = train_data[\"SalePrice\"]\n",
    "train_x, test_x, train_y, test_y = train_test_split(X, Y,random_state = 0)\n",
    "print(\"'\",len(train_data),len(train_x),len(train_y),len(test_x),len(test_y), \"' are the length\")\n",
    "Y.head()"
   ]
  },
  {
   "cell_type": "code",
   "execution_count": 14,
   "metadata": {},
   "outputs": [],
   "source": [
    "def get_mae(max_leaf_nodes, train_x, test_x, train_y, test_y):\n",
    "    model = DecisionTreeRegressor(max_leaf_nodes=max_leaf_nodes, random_state=0)\n",
    "    model.fit(train_x, train_y)\n",
    "    predicted_value = model.predict(test_x)\n",
    "    mae = mean_absolute_error(test_y, predicted_value)\n",
    "    return(mae)\n",
    " b"
   ]
  },
  {
   "cell_type": "code",
   "execution_count": 47,
   "metadata": {},
   "outputs": [
    {
     "output_type": "stream",
     "name": "stdout",
     "text": [
      "Max leaf nodes: 2  \t\t Mean Absolute Error:  45933\n",
      "Max leaf nodes: 102  \t\t Mean Absolute Error:  28527\n",
      "Max leaf nodes: 202  \t\t Mean Absolute Error:  30109\n",
      "Max leaf nodes: 302  \t\t Mean Absolute Error:  32177\n",
      "Max leaf nodes: 402  \t\t Mean Absolute Error:  32255\n",
      "Max leaf nodes: 502  \t\t Mean Absolute Error:  32680\n",
      "Max leaf nodes: 602  \t\t Mean Absolute Error:  33266\n",
      "Max leaf nodes: 702  \t\t Mean Absolute Error:  33263\n",
      "Max leaf nodes: 802  \t\t Mean Absolute Error:  33452\n",
      "Max leaf nodes: 902  \t\t Mean Absolute Error:  33410\n",
      "Max leaf nodes: 1002  \t\t Mean Absolute Error:  33386\n",
      "Max leaf nodes: 1102  \t\t Mean Absolute Error:  33382\n",
      "Max leaf nodes: 1202  \t\t Mean Absolute Error:  33382\n",
      "Max leaf nodes: 1302  \t\t Mean Absolute Error:  33382\n",
      "Max leaf nodes: 1402  \t\t Mean Absolute Error:  33382\n",
      "Max leaf nodes: 1502  \t\t Mean Absolute Error:  33382\n",
      "Max leaf nodes: 1602  \t\t Mean Absolute Error:  33382\n",
      "Max leaf nodes: 1702  \t\t Mean Absolute Error:  33382\n",
      "Max leaf nodes: 1802  \t\t Mean Absolute Error:  33382\n",
      "Max leaf nodes: 1902  \t\t Mean Absolute Error:  33382\n",
      "Max leaf nodes: 2002  \t\t Mean Absolute Error:  33382\n",
      "Max leaf nodes: 2102  \t\t Mean Absolute Error:  33382\n",
      "Max leaf nodes: 2202  \t\t Mean Absolute Error:  33382\n",
      "Max leaf nodes: 2302  \t\t Mean Absolute Error:  33382\n",
      "Max leaf nodes: 2402  \t\t Mean Absolute Error:  33382\n",
      "Max leaf nodes: 2502  \t\t Mean Absolute Error:  33382\n",
      "Max leaf nodes: 2602  \t\t Mean Absolute Error:  33382\n",
      "Max leaf nodes: 2702  \t\t Mean Absolute Error:  33382\n",
      "Max leaf nodes: 2802  \t\t Mean Absolute Error:  33382\n",
      "Max leaf nodes: 2902  \t\t Mean Absolute Error:  33382\n",
      "Max leaf nodes: 3002  \t\t Mean Absolute Error:  33382\n",
      "Max leaf nodes: 3102  \t\t Mean Absolute Error:  33382\n",
      "Max leaf nodes: 3202  \t\t Mean Absolute Error:  33382\n",
      "Max leaf nodes: 3302  \t\t Mean Absolute Error:  33382\n",
      "Max leaf nodes: 3402  \t\t Mean Absolute Error:  33382\n",
      "Max leaf nodes: 3502  \t\t Mean Absolute Error:  33382\n",
      "Max leaf nodes: 3602  \t\t Mean Absolute Error:  33382\n",
      "Max leaf nodes: 3702  \t\t Mean Absolute Error:  33382\n",
      "Max leaf nodes: 3802  \t\t Mean Absolute Error:  33382\n",
      "Max leaf nodes: 3902  \t\t Mean Absolute Error:  33382\n",
      "Max leaf nodes: 4002  \t\t Mean Absolute Error:  33382\n",
      "Max leaf nodes: 4102  \t\t Mean Absolute Error:  33382\n",
      "Max leaf nodes: 4202  \t\t Mean Absolute Error:  33382\n",
      "Max leaf nodes: 4302  \t\t Mean Absolute Error:  33382\n",
      "Max leaf nodes: 4402  \t\t Mean Absolute Error:  33382\n",
      "Max leaf nodes: 4502  \t\t Mean Absolute Error:  33382\n",
      "Max leaf nodes: 4602  \t\t Mean Absolute Error:  33382\n",
      "Max leaf nodes: 4702  \t\t Mean Absolute Error:  33382\n",
      "Max leaf nodes: 4802  \t\t Mean Absolute Error:  33382\n",
      "Max leaf nodes: 4902  \t\t Mean Absolute Error:  33382\n",
      "Max leaf nodes: 5002  \t\t Mean Absolute Error:  33382\n",
      "Max leaf nodes: 5102  \t\t Mean Absolute Error:  33382\n",
      "Max leaf nodes: 5202  \t\t Mean Absolute Error:  33382\n",
      "Max leaf nodes: 5302  \t\t Mean Absolute Error:  33382\n",
      "Max leaf nodes: 5402  \t\t Mean Absolute Error:  33382\n",
      "Max leaf nodes: 5502  \t\t Mean Absolute Error:  33382\n",
      "Max leaf nodes: 5602  \t\t Mean Absolute Error:  33382\n",
      "Max leaf nodes: 5702  \t\t Mean Absolute Error:  33382\n",
      "Max leaf nodes: 5802  \t\t Mean Absolute Error:  33382\n",
      "Max leaf nodes: 5902  \t\t Mean Absolute Error:  33382\n",
      "Max leaf nodes: 6002  \t\t Mean Absolute Error:  33382\n",
      "Max leaf nodes: 6102  \t\t Mean Absolute Error:  33382\n",
      "Max leaf nodes: 6202  \t\t Mean Absolute Error:  33382\n",
      "Max leaf nodes: 6302  \t\t Mean Absolute Error:  33382\n",
      "Max leaf nodes: 6402  \t\t Mean Absolute Error:  33382\n",
      "Max leaf nodes: 6502  \t\t Mean Absolute Error:  33382\n",
      "Max leaf nodes: 6602  \t\t Mean Absolute Error:  33382\n",
      "Max leaf nodes: 6702  \t\t Mean Absolute Error:  33382\n",
      "Max leaf nodes: 6802  \t\t Mean Absolute Error:  33382\n",
      "Max leaf nodes: 6902  \t\t Mean Absolute Error:  33382\n",
      "Max leaf nodes: 7002  \t\t Mean Absolute Error:  33382\n",
      "Max leaf nodes: 7102  \t\t Mean Absolute Error:  33382\n",
      "Max leaf nodes: 7202  \t\t Mean Absolute Error:  33382\n",
      "Max leaf nodes: 7302  \t\t Mean Absolute Error:  33382\n",
      "Max leaf nodes: 7402  \t\t Mean Absolute Error:  33382\n",
      "Max leaf nodes: 7502  \t\t Mean Absolute Error:  33382\n",
      "Max leaf nodes: 7602  \t\t Mean Absolute Error:  33382\n",
      "Max leaf nodes: 7702  \t\t Mean Absolute Error:  33382\n",
      "Max leaf nodes: 7802  \t\t Mean Absolute Error:  33382\n",
      "Max leaf nodes: 7902  \t\t Mean Absolute Error:  33382\n",
      "Max leaf nodes: 8002  \t\t Mean Absolute Error:  33382\n",
      "Max leaf nodes: 8102  \t\t Mean Absolute Error:  33382\n",
      "Max leaf nodes: 8202  \t\t Mean Absolute Error:  33382\n",
      "Max leaf nodes: 8302  \t\t Mean Absolute Error:  33382\n",
      "Max leaf nodes: 8402  \t\t Mean Absolute Error:  33382\n",
      "Max leaf nodes: 8502  \t\t Mean Absolute Error:  33382\n",
      "Max leaf nodes: 8602  \t\t Mean Absolute Error:  33382\n",
      "Max leaf nodes: 8702  \t\t Mean Absolute Error:  33382\n",
      "Max leaf nodes: 8802  \t\t Mean Absolute Error:  33382\n",
      "Max leaf nodes: 8902  \t\t Mean Absolute Error:  33382\n",
      "Max leaf nodes: 9002  \t\t Mean Absolute Error:  33382\n",
      "Max leaf nodes: 9102  \t\t Mean Absolute Error:  33382\n",
      "Max leaf nodes: 9202  \t\t Mean Absolute Error:  33382\n",
      "Max leaf nodes: 9302  \t\t Mean Absolute Error:  33382\n",
      "Max leaf nodes: 9402  \t\t Mean Absolute Error:  33382\n",
      "Max leaf nodes: 9502  \t\t Mean Absolute Error:  33382\n",
      "Max leaf nodes: 9602  \t\t Mean Absolute Error:  33382\n",
      "Max leaf nodes: 9702  \t\t Mean Absolute Error:  33382\n",
      "Max leaf nodes: 9802  \t\t Mean Absolute Error:  33382\n",
      "Max leaf nodes: 9902  \t\t Mean Absolute Error:  33382\n"
     ]
    }
   ],
   "source": [
    "for max_leaf_nodes in range(2,10000,100):\n",
    "    my_mae = get_mae(max_leaf_nodes, train_x, test_x, train_y, test_y)\n",
    "    print(\"Max leaf nodes: %d  \\t\\t Mean Absolute Error:  %d\" %(max_leaf_nodes, my_mae))"
   ]
  }
 ]
}